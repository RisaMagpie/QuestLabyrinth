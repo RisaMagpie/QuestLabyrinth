{
 "cells": [
  {
   "cell_type": "code",
   "execution_count": 26,
   "metadata": {},
   "outputs": [
    {
     "name": "stdout",
     "output_type": "stream",
     "text": [
      "Database opened successfully\n"
     ]
    }
   ],
   "source": [
    "import psycopg2\n",
    "\n",
    "con = psycopg2.connect(\n",
    "  database=\"quest_labyrinth2\", \n",
    "  user=\"postgres\", \n",
    "  password=\"5114938w\", \n",
    "  host=\"127.0.0.1\", \n",
    "  port=\"5432\"\n",
    ")\n",
    "\n",
    "print(\"Database opened successfully\")"
   ]
  },
  {
   "cell_type": "code",
   "execution_count": 27,
   "metadata": {},
   "outputs": [
    {
     "name": "stdout",
     "output_type": "stream",
     "text": [
      "Record inserted successfully\n",
      "1\n",
      "Veronika\n",
      "1\n",
      "1\n",
      "2\n",
      "Veronika2\n",
      "1\n",
      "1\n",
      "3\n",
      "Veronika2\n",
      "1\n",
      "1\n",
      "4\n",
      "Veronika2\n",
      "1\n",
      "1\n",
      "Operation done successfully\n"
     ]
    }
   ],
   "source": [
    "cur = con.cursor()\n",
    "cur.execute(\n",
    "  \"INSERT INTO user_state VALUES (4,'Veronika2',1,1,1)\"\n",
    ")\n",
    "\n",
    "con.commit()  \n",
    "print(\"Record inserted successfully\")\n",
    "\n",
    "cur.execute(\"SELECT * from user_state \")  \n",
    "rows = cur.fetchall()\n",
    "for row in rows:  \n",
    "   print( row[0])\n",
    "   print( row[1])\n",
    "   print( row[2])\n",
    "   print( row[3])\n",
    "   #print(\"DEPARTMENT =\", row[4], \"\\n\")\n",
    "\n",
    "print(\"Operation done successfully\")  \n",
    "con.close()"
   ]
  },
  {
   "cell_type": "code",
   "execution_count": null,
   "metadata": {},
   "outputs": [],
   "source": []
  },
  {
   "cell_type": "code",
   "execution_count": null,
   "metadata": {},
   "outputs": [],
   "source": []
  }
 ],
 "metadata": {
  "kernelspec": {
   "display_name": "Python 3",
   "language": "python",
   "name": "python3"
  },
  "language_info": {
   "codemirror_mode": {
    "name": "ipython",
    "version": 3
   },
   "file_extension": ".py",
   "mimetype": "text/x-python",
   "name": "python",
   "nbconvert_exporter": "python",
   "pygments_lexer": "ipython3",
   "version": "3.6.4"
  }
 },
 "nbformat": 4,
 "nbformat_minor": 2
}
