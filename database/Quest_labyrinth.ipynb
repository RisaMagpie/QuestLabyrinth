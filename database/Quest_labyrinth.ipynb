{
 "cells": [
  {
   "cell_type": "code",
   "execution_count": 32,
   "metadata": {},
   "outputs": [],
   "source": [
    "import psycopg2\n",
    "import sys\n",
    "\n",
    "\"\"\"\n",
    "Drop all tables of database you given.\n",
    "\"\"\"\n",
    "\n",
    "try:\n",
    "    conn = psycopg2.connect(\"dbname='quest_labyrinth2' user='postgres' password='5114938w'\")\n",
    "    conn.set_isolation_level(0)\n",
    "    conn.autocommit = True \n",
    "except:\n",
    "    print(\"Unable to connect to the database.\"\n",
    ")\n",
    "cur = conn.cursor()\n",
    "\n",
    "try:\n",
    "    cur.execute(\"SELECT table_schema,table_name FROM information_schema.tables WHERE table_schema = 'public' ORDER BY table_schema,table_name\")\n",
    "    rows = cur.fetchall()\n",
    "    for row in rows:\n",
    "        print(\"dropping table: \", row[1])\n",
    "        cur.execute(\"drop table \" + row[1] + \" cascade\")\n",
    "#     cur.close()\n",
    "#     conn.close()\n",
    "except:\n",
    "    print (\"Error: \", sys.exc_info()[1])"
   ]
  },
  {
   "cell_type": "code",
   "execution_count": 34,
   "metadata": {},
   "outputs": [
    {
     "name": "stdout",
     "output_type": "stream",
     "text": [
      "Table created successfully\n",
      "Operation done successfully\n"
     ]
    }
   ],
   "source": [
    "#cur.execute('''CREATE DATABASE \"quest_labyrinth2\" WITH ENCODING = 'UTF8';''') \n",
    "#TO DO: look into how to drop whole database and create new, no kust clean it\n",
    "\n",
    "cur.execute('''CREATE TABLE  actions_for_state (\n",
    "    id SERIAL PRIMARY KEY,\n",
    "    coordinate_x BIGINT NOT NULL,\n",
    "    coordinate_y BIGINT NOT NULL,\n",
    "    possible_action_id integer NOT NULL\n",
    ");''')\n",
    "\n",
    "cur.execute('''CREATE TABLE actions_id (\n",
    "    action_id SERIAL PRIMARY KEY,\n",
    "    action_name character varying(50) NOT NULL\n",
    ");''')\n",
    "\n",
    "cur.execute('''CREATE TABLE screenplay_for_state (\n",
    "    id SERIAL PRIMARY KEY,\n",
    "    coordinate_x BIGINT NOT NULL,\n",
    "    coordinate_y BIGINT NOT NULL,\n",
    "    current_screenplay_part_id smallint NOT NULL\n",
    ");''')\n",
    "\n",
    "cur.execute('''CREATE TABLE screenplay_id (\n",
    "    screenplay_part_id SERIAL PRIMARY KEY,\n",
    "    screenplay_part_text character varying(50) NOT NULL\n",
    ");''')\n",
    "\n",
    "cur.execute('''CREATE TABLE user_inventory (\n",
    "    id SERIAL PRIMARY KEY,\n",
    "    user_id integer NOT NULL,\n",
    "    item_name character varying(50) NOT NULL\n",
    ");''')\n",
    "\n",
    "cur.execute('''CREATE TABLE user_state (\n",
    "    user_id SERIAL PRIMARY KEY,\n",
    "    user_name character varying(50) NOT NULL,\n",
    "    coordinate_x BIGINT NOT NULL,\n",
    "    coordinate_y BIGINT NOT NULL,\n",
    "    time_before_attack BIGINT NOT NULL\n",
    ");''')\n",
    "\n",
    "print(\"Table created successfully\")\n",
    "# con.commit()  \n",
    "# print(\"Record inserted successfully\")\n",
    "\n",
    "print(\"Operation done successfully\")  \n",
    "con.close()"
   ]
  },
  {
   "cell_type": "code",
   "execution_count": null,
   "metadata": {},
   "outputs": [],
   "source": []
  }
 ],
 "metadata": {
  "kernelspec": {
   "display_name": "Python 3",
   "language": "python",
   "name": "python3"
  },
  "language_info": {
   "codemirror_mode": {
    "name": "ipython",
    "version": 3
   },
   "file_extension": ".py",
   "mimetype": "text/x-python",
   "name": "python",
   "nbconvert_exporter": "python",
   "pygments_lexer": "ipython3",
   "version": "3.6.4"
  }
 },
 "nbformat": 4,
 "nbformat_minor": 2
}
